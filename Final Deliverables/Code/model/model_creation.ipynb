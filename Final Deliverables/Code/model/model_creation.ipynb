{
 "cells": [
  {
   "cell_type": "code",
   "execution_count": null,
   "id": "5f868ec8",
   "metadata": {},
   "outputs": [],
   "source": [
    "%pip install keras==2.2.4"
   ]
  },
  {
   "cell_type": "code",
   "execution_count": null,
   "id": "c94e16f1",
   "metadata": {},
   "outputs": [],
   "source": [
    "%pip install tensorflow==2.5.0"
   ]
  },
  {
   "cell_type": "code",
   "execution_count": null,
   "id": "88e82f41",
   "metadata": {},
   "outputs": [],
   "source": [
    "from tensorflow.keras.preprocessing.image import ImageDataGenerator"
   ]
  },
  {
   "cell_type": "code",
   "execution_count": null,
   "id": "a9c6562e",
   "metadata": {},
   "outputs": [],
   "source": [
    "dataset = r'./training_set'"
   ]
  },
  {
   "cell_type": "code",
   "execution_count": null,
   "id": "b76348f0",
   "metadata": {},
   "outputs": [],
   "source": [
    "train_datagen=ImageDataGenerator(rescale=1./255,shear_range=0.2,zoom_range=0.2,horizontal_flip=True)"
   ]
  },
  {
   "cell_type": "code",
   "execution_count": null,
   "id": "f785ea83",
   "metadata": {},
   "outputs": [],
   "source": [
    "test_datagen=ImageDataGenerator(rescale=1./255)"
   ]
  },
  {
   "cell_type": "code",
   "execution_count": null,
   "id": "1bf13465",
   "metadata": {},
   "outputs": [],
   "source": [
    "x_train=train_datagen.flow_from_directory(dataset,target_size=(64, 64),batch_size=5,color_mode='rgb',class_mode='sparse')"
   ]
  },
  {
   "cell_type": "code",
   "execution_count": null,
   "id": "16bc8b71",
   "metadata": {},
   "outputs": [],
   "source": [
    "x_test=test_datagen.flow_from_directory(dataset,target_size=(64, 64),batch_size=5,color_mode='rgb',class_mode='sparse')"
   ]
  },
  {
   "cell_type": "code",
   "execution_count": null,
   "id": "27458a2a",
   "metadata": {},
   "outputs": [],
   "source": [
    "print(x_train.class_indices)"
   ]
  },
  {
   "cell_type": "code",
   "execution_count": null,
   "id": "9291bce1",
   "metadata": {},
   "outputs": [],
   "source": [
    "print(x_test.class_indices)"
   ]
  },
  {
   "cell_type": "code",
   "execution_count": null,
   "id": "5c5f3c8a",
   "metadata": {},
   "outputs": [],
   "source": [
    "from collections import Counter as c\n",
    "c(x_train.labels)"
   ]
  },
  {
   "cell_type": "code",
   "execution_count": null,
   "id": "845e053f",
   "metadata": {},
   "outputs": [],
   "source": [
    "import numpy as np\n",
    "import tensorflow\n",
    "from tensorflow.keras.models import Sequential\n",
    "from tensorflow.keras import layers\n",
    "from tensorflow.keras.layers import Dense,Flatten\n",
    "from tensorflow.keras.layers import Conv2D,MaxPooling2D,Dropout\n",
    "from tensorflow.keras.preprocessing.image import ImageDataGenerator"
   ]
  },
  {
   "cell_type": "code",
   "execution_count": null,
   "id": "43b80d65",
   "metadata": {},
   "outputs": [],
   "source": [
    "model=Sequential()"
   ]
  },
  {
   "cell_type": "code",
   "execution_count": null,
   "id": "f520c363",
   "metadata": {},
   "outputs": [],
   "source": [
    "model.add(Conv2D(32, (3, 3), input_shape=(64, 64 ,3), activation='relu'))"
   ]
  },
  {
   "cell_type": "code",
   "execution_count": null,
   "id": "9cbd3d2e",
   "metadata": {},
   "outputs": [],
   "source": [
    "model.add(MaxPooling2D(pool_size=(2, 2)))"
   ]
  },
  {
   "cell_type": "code",
   "execution_count": null,
   "id": "2e6041f6",
   "metadata": {},
   "outputs": [],
   "source": [
    "model.add(Conv2D(32, (3, 3), activation='relu'))"
   ]
  },
  {
   "cell_type": "code",
   "execution_count": null,
   "id": "d48b1f09",
   "metadata": {},
   "outputs": [],
   "source": [
    "model.add(Flatten())"
   ]
  },
  {
   "cell_type": "code",
   "execution_count": null,
   "id": "83b07bb1",
   "metadata": {},
   "outputs": [],
   "source": [
    "model.add(Dense(units=128, activation='relu'))"
   ]
  },
  {
   "cell_type": "code",
   "execution_count": null,
   "id": "d597b8e1",
   "metadata": {},
   "outputs": [],
   "source": [
    "model.add(Dense(units=5, activation='softmax'))"
   ]
  },
  {
   "cell_type": "code",
   "execution_count": null,
   "id": "7d34f551",
   "metadata": {},
   "outputs": [],
   "source": [
    "model.summary()"
   ]
  },
  {
   "cell_type": "code",
   "execution_count": null,
   "id": "6da7632a",
   "metadata": {},
   "outputs": [],
   "source": [
    "model.compile(optimizer='adam', loss='sparse_categorical_crossentropy',metrics=['accuracy'])"
   ]
  },
  {
   "cell_type": "code",
   "execution_count": null,
   "id": "b4ff5b86",
   "metadata": {},
   "outputs": [],
   "source": [
    "model.fit_generator(x_train,steps_per_epoch=len(x_train),validation_data=x_test,validation_steps=len(x_test),epochs=30)"
   ]
  },
  {
   "cell_type": "code",
   "execution_count": null,
   "id": "1d47026c",
   "metadata": {},
   "outputs": [],
   "source": [
    "model.save('nutrition.h5')"
   ]
  },
  {
   "cell_type": "code",
   "execution_count": null,
   "id": "d22c16b1",
   "metadata": {},
   "outputs": [],
   "source": [
    "from tensorflow.keras.models import load_model\n",
    "from tensorflow.keras.preprocessing import image\n"
   ]
  },
  {
   "cell_type": "code",
   "execution_count": null,
   "id": "3c5548d7",
   "metadata": {},
   "outputs": [],
   "source": [
    "model = load_model(\"nutrition.h5\")"
   ]
  },
  {
   "cell_type": "code",
   "execution_count": null,
   "id": "8ffe0dc4",
   "metadata": {},
   "outputs": [],
   "source": [
    "testImage = r'./training_set/ORANGE/101_100.jpg'"
   ]
  },
  {
   "cell_type": "code",
   "execution_count": null,
   "id": "d1f66e9a",
   "metadata": {},
   "outputs": [],
   "source": [
    "img=image.load_img(testImage, target_size=(64,64))"
   ]
  },
  {
   "cell_type": "code",
   "execution_count": null,
   "id": "09dcaaf7",
   "metadata": {},
   "outputs": [],
   "source": [
    "x=image.img_to_array(img)"
   ]
  },
  {
   "cell_type": "code",
   "execution_count": null,
   "id": "2170131a",
   "metadata": {},
   "outputs": [],
   "source": [
    "x=np.expand_dims(x,axis=0)"
   ]
  },
  {
   "cell_type": "code",
   "execution_count": null,
   "id": "613bea1a",
   "metadata": {},
   "outputs": [],
   "source": [
    "y=np.argmax(model.predict(x), axis=1)"
   ]
  },
  {
   "cell_type": "code",
   "execution_count": null,
   "id": "7f055452",
   "metadata": {},
   "outputs": [],
   "source": [
    "x_train.class_indices"
   ]
  },
  {
   "cell_type": "code",
   "execution_count": null,
   "id": "2545bb87",
   "metadata": {},
   "outputs": [],
   "source": [
    "index=['APPLES', 'BANANA', 'ORANGE', 'PINEAPPLE', 'WATERMELON']"
   ]
  },
  {
   "cell_type": "code",
   "execution_count": null,
   "id": "5949d3de",
   "metadata": {},
   "outputs": [],
   "source": [
    "index[y[0]]"
   ]
  },
  {
   "cell_type": "code",
   "execution_count": null,
   "id": "91f53df6",
   "metadata": {},
   "outputs": [],
   "source": [
    "!tar -zcvf nutri-analyzer-model.tgz nutrition.h5"
   ]
  },
  {
   "cell_type": "code",
   "execution_count": null,
   "id": "211849a7",
   "metadata": {},
   "outputs": [],
   "source": [
    "import tensorflow as tf\n",
    "tf.__version__"
   ]
  },
  {
   "cell_type": "code",
   "execution_count": null,
   "id": "728a1b99",
   "metadata": {},
   "outputs": [],
   "source": [
    "%pip install keras==2.2.4"
   ]
  }
 ],
 "metadata": {
  "interpreter": {
   "hash": "369f2c481f4da34e4445cda3fffd2e751bd1c4d706f27375911949ba6bb62e1c"
  },
  "kernelspec": {
   "display_name": "Python 3.10.5 64-bit",
   "language": "python",
   "name": "python3"
  },
  "language_info": {
   "codemirror_mode": {
    "name": "ipython",
    "version": 3
   },
   "file_extension": ".py",
   "mimetype": "text/x-python",
   "name": "python",
   "nbconvert_exporter": "python",
   "pygments_lexer": "ipython3",
   "version": "3.10.5"
  }
 },
 "nbformat": 4,
 "nbformat_minor": 5
}
